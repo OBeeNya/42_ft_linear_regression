{
 "cells": [
  {
   "cell_type": "code",
   "execution_count": 23,
   "metadata": {},
   "outputs": [],
   "source": [
    "import numpy as np\n",
    "import pandas as pd\n",
    "import matplotlib.pyplot as plt\n",
    "from sklearn import preprocessing"
   ]
  },
  {
   "cell_type": "code",
   "execution_count": 24,
   "metadata": {},
   "outputs": [],
   "source": [
    "class ft_linear_regression:\n",
    "    \n",
    "    def __init__(self) -> None:\n",
    "        # Load data from csv file\n",
    "        self.data = pd.read_csv('data.csv')\n",
    "\t\t# Get data into np.array\n",
    "        self.X = np.array(self.data['km']).reshape(-1, 1)\n",
    "        self.Y = np.array(self.data['price']).reshape(-1, 1)\n",
    "\t\t# Scale predictive variable\n",
    "        self.scaler = preprocessing.StandardScaler().fit(self.X)\n",
    "        self.X = self.scaler.transform(self.X)\n",
    "\t\t# Add intercept feature\n",
    "        self.X = np.hstack([np.ones_like(self.X), self.X])\n",
    "        # Initialize parameters, hyperparameters and cost\n",
    "        self.theta = np.array([[0.0], [0.0]])\n",
    "        self.m = self.X.shape[0]\n",
    "        self.cost = []\n",
    "        \n",
    "    def fit(self, lr=0.1, iter=50) -> None:\n",
    "        for _ in range(iter):\n",
    "            # Make predictions based on current parameters\n",
    "            Y_pred = self.X.dot(self.theta)\n",
    "            # Calculate cost\n",
    "            self.cost.append(np.sum((self.Y - Y_pred[:, 0]) ** 2) / self.m)\n",
    "        \t# Update parameters\n",
    "            self.theta[1] += lr * sum(self.X[:, 1] * (self.Y - Y_pred)[:, 0]) / self.m\n",
    "            self.theta[0] += lr * sum(self.Y - Y_pred) / self.m\n",
    "            \n",
    "    def predict(self, data) -> np.array:\n",
    "        # Scale new data based on training scaler\n",
    "        data_scaled = self.scaler.transform(data)\n",
    "        # Add intercept feature\n",
    "        data_trans = np.hstack([np.ones_like(data_scaled), data_scaled])\n",
    "        # Return predictions\n",
    "        return data_trans.dot(self.theta)\n",
    "    \n",
    "    def plot_data(self) -> None:\n",
    "        # Plot training data\n",
    "        plt.scatter(self.data.iloc[:, 0], self.data.iloc[:, 1])\n",
    "        plt.xlabel(self.data.columns[0])\n",
    "        plt.ylabel(self.data.columns[1])\n",
    "        \n",
    "    def plot_regression(self) -> None:\n",
    "        # Plot regression coefficients\n",
    "        plt.scatter(self.data.iloc[:, 0], self.data.iloc[:, 1])\n",
    "        # Unscaling learned coefficients\n",
    "        plt.plot(self.data.iloc[:, 0], self.theta[0] - self.theta[1] * np.mean(self.data.iloc[:, 0]) / np.std(self.data.iloc[:, 0]) + self.theta[1] / np.std(self.data.iloc[:, 0]) * self.data.iloc[:, 0], '-', c='r')\n",
    "        plt.xlabel(self.data.columns[0])\n",
    "        plt.ylabel(self.data.columns[1])\n",
    "        \n",
    "    def plot_cost(self) -> None:\n",
    "        # Plot cost evolution against training epochs\n",
    "        plt.plot(self.cost)\n",
    "        plt.xlabel('epochs')\n",
    "        plt.ylabel('cost')\n",
    "        \n",
    "    def error(self, X, Y) -> float:\n",
    "        # Calculate error on testing data\n",
    "        Y_pred = self.predict(X)\n",
    "        return np.sum(Y - Y_pred[:, 0]) / X.shape[0]"
   ]
  },
  {
   "cell_type": "code",
   "execution_count": 25,
   "metadata": {},
   "outputs": [],
   "source": [
    "LR = ft_linear_regression()\n"
   ]
  },
  {
   "cell_type": "code",
   "execution_count": 26,
   "metadata": {},
   "outputs": [],
   "source": [
    "LR.fit()"
   ]
  },
  {
   "cell_type": "code",
   "execution_count": 27,
   "metadata": {},
   "outputs": [
    {
     "data": {
      "image/png": "[encoded data removed]",
      "text/plain": [
       "<Figure size 432x288 with 1 Axes>"
      ]
     },
     "metadata": {
      "needs_background": "light"
     },
     "output_type": "display_data"
    }
   ],
   "source": [
    "LR.plot_data()"
   ]
  },
  {
   "cell_type": "code",
   "execution_count": 28,
   "metadata": {},
   "outputs": [
    {
     "data": {
      "image/png": "[encoded data removed]",
      "text/plain": [
       "<Figure size 432x288 with 1 Axes>"
      ]
     },
     "metadata": {
      "needs_background": "light"
     },
     "output_type": "display_data"
    }
   ],
   "source": [
    "LR.plot_regression()"
   ]
  },
  {
   "cell_type": "code",
   "execution_count": 29,
   "metadata": {},
   "outputs": [
    {
     "data": {
      "image/png": "[encoded data removed]",
      "text/plain": [
       "<Figure size 432x288 with 1 Axes>"
      ]
     },
     "metadata": {
      "needs_background": "light"
     },
     "output_type": "display_data"
    }
   ],
   "source": [
    "LR.plot_cost()"
   ]
  },
  {
   "cell_type": "code",
   "execution_count": 30,
   "metadata": {},
   "outputs": [],
   "source": [
    "test = np.array([[150000, 5000], [50000, 7000], [210000, 4000]])"
   ]
  },
  {
   "cell_type": "code",
   "execution_count": 31,
   "metadata": {},
   "outputs": [
    {
     "data": {
      "text/plain": [
       "array([[5255.03155575],\n",
       "       [7388.87360124],\n",
       "       [3974.72632845]])"
      ]
     },
     "execution_count": 31,
     "metadata": {},
     "output_type": "execute_result"
    }
   ],
   "source": [
    "LR.predict(test[:, 0].reshape(-1, 1))"
   ]
  },
  {
   "cell_type": "code",
   "execution_count": 32,
   "metadata": {},
   "outputs": [
    {
     "data": {
      "text/plain": [
       "array([51565.18991064])"
      ]
     },
     "execution_count": 32,
     "metadata": {},
     "output_type": "execute_result"
    }
   ],
   "source": [
    "LR.scaler.scale_"
   ]
  },
  {
   "cell_type": "code",
   "execution_count": 33,
   "metadata": {},
   "outputs": [
    {
     "data": {
      "text/plain": [
       "-618.6314854382567"
      ]
     },
     "execution_count": 33,
     "metadata": {},
     "output_type": "execute_result"
    }
   ],
   "source": [
    "LR.error(test[:, 0].reshape(-1, 1), test[:, 1].reshape(-1, 1))"
   ]
  }
 ],
 "metadata": {
  "kernelspec": {
   "display_name": "Python 3",
   "language": "python",
   "name": "python3"
  },
  "language_info": {
   "codemirror_mode": {
    "name": "ipython",
    "version": 3
   },
   "file_extension": ".py",
   "mimetype": "text/x-python",
   "name": "python",
   "nbconvert_exporter": "python",
   "pygments_lexer": "ipython3",
   "version": "3.9.5"
  },
  "orig_nbformat": 4
 },
 "nbformat": 4,
 "nbformat_minor": 2
}

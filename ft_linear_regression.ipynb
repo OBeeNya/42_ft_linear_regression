{
 "cells": [
  {
   "cell_type": "code",
   "execution_count": 1,
   "metadata": {},
   "outputs": [],
   "source": [
    "import numpy as np\n",
    "import pandas as pd\n",
    "import matplotlib.pyplot as plt\n",
    "from sklearn import preprocessing"
   ]
  },
  {
   "cell_type": "code",
   "execution_count": 95,
   "metadata": {},
   "outputs": [],
   "source": [
    "class ft_linear_regression:\n",
    "    \n",
    "\tdef __init__(self) -> None:\n",
    "\t\t# Load data from csv file\n",
    "\t\tself.data = pd.read_csv('data.csv')\n",
    "\t\t# Get data into np.array\n",
    "\t\tself.X = np.array(self.data['km']).reshape(-1, 1)\n",
    "\t\tself.Y = np.array(self.data['price']).reshape(-1, 1)\n",
    "\t\t# Scale predictive variable\n",
    "\t\tself.scales = [0, 0]\n",
    "\t\tself.X = self.scale(self.X, True)\n",
    "\t\t# print(self.X)\n",
    "\t\t# Add intercept feature\n",
    "\t\tself.X = np.hstack([np.ones_like(self.X), self.X])\n",
    "        # Initialize parameters, hyperparameters and cost\n",
    "\t\tself.theta = np.array([[0.0], [0.0]])\n",
    "\t\tself.m = self.X.shape[0]\n",
    "\t\tself.cost = []\n",
    "\n",
    "\tdef scale(self, X, learning) -> np.array:\n",
    "\t\tX = X.astype(np.float64)\n",
    "\t\t# Standardizing data by removing the mean and scaling to unit variance\n",
    "\t\tif (learning == True):\n",
    "\t\t\tself.scales[0] = np.mean(X[:, 0])\n",
    "\t\t\tself.scales[1] = np.std(X[:, 0])\n",
    "\t\tX[:, 0] -= self.scales[0]\n",
    "\t\tX[:, 0] /= self.scales[1]\n",
    "\t\treturn X\n",
    "        \n",
    "\tdef fit(self, lr=0.1, iter=40) -> None:\n",
    "\t\tfor _ in range(iter):\n",
    "            # Make predictions based on current parameters\n",
    "\t\t\tY_pred = self.X.dot(self.theta)\n",
    "            # Calculate cost\n",
    "\t\t\tself.cost.append(np.sum((self.Y - Y_pred[:, 0]) ** 2) / self.m)\n",
    "        \t# Update parameters\n",
    "\t\t\tself.theta[1] += lr * sum(self.X[:, 1] * (self.Y - Y_pred)[:, 0]) / self.m\n",
    "\t\t\tself.theta[0] += lr * sum(self.Y - Y_pred) / self.m\n",
    "            \n",
    "\tdef predict(self, data) -> np.array:\n",
    "\t\t# Scale new data based on training scaler\n",
    "\t\tdata_scaled = self.scale(data, False)\n",
    "\t\t# Add intercept feature\n",
    "\t\tdata_trans = np.hstack([np.ones_like(data_scaled), data_scaled])\n",
    "\t\t# Return predictions\n",
    "\t\treturn data_trans.dot(self.theta)\n",
    "    \n",
    "\tdef plot_data(self) -> None:\n",
    "        # Plot training data\n",
    "\t\tplt.scatter(self.data.iloc[:, 0], self.data.iloc[:, 1])\n",
    "\t\tplt.xlabel(self.data.columns[0])\n",
    "\t\tplt.ylabel(self.data.columns[1])\n",
    "        \n",
    "\tdef plot_regression(self) -> None:\n",
    "        # Plot regression coefficients\n",
    "\t\tplt.scatter(self.data.iloc[:, 0], self.data.iloc[:, 1])\n",
    "        # Unscaling learned coefficients\n",
    "\t\tplt.plot(self.data.iloc[:, 0], self.theta[0] - self.theta[1] * np.mean(self.data.iloc[:, 0]) / np.std(self.data.iloc[:, 0]) + self.theta[1] / np.std(self.data.iloc[:, 0]) * self.data.iloc[:, 0], '-', c='r')\n",
    "\t\tplt.xlabel(self.data.columns[0])\n",
    "\t\tplt.ylabel(self.data.columns[1])\n",
    "        \n",
    "\tdef plot_cost(self) -> None:\n",
    "        # Plot cost evolution against training epochs\n",
    "\t\tplt.plot(self.cost)\n",
    "\t\tplt.xlabel('epochs')\n",
    "\t\tplt.ylabel('cost')\n",
    "        \n",
    "\tdef error(self, X, Y) -> float:\n",
    "        # Calculate error on testing data\n",
    "\t\tY_pred = self.predict(X)\n",
    "\t\treturn np.sum(Y - Y_pred[:, 0]) / X.shape[0]"
   ]
  },
  {
   "cell_type": "code",
   "execution_count": 96,
   "metadata": {},
   "outputs": [],
   "source": [
    "LR = ft_linear_regression()"
   ]
  },
  {
   "cell_type": "code",
   "execution_count": 97,
   "metadata": {},
   "outputs": [],
   "source": [
    "LR.fit()"
   ]
  },
  {
   "cell_type": "code",
   "execution_count": 98,
   "metadata": {},
   "outputs": [
    {
     "data": {
      "image/png": "[encoded data removed]",
      "text/plain": [
       "<Figure size 432x288 with 1 Axes>"
      ]
     },
     "metadata": {
      "needs_background": "light"
     },
     "output_type": "display_data"
    }
   ],
   "source": [
    "LR.plot_data()"
   ]
  },
  {
   "cell_type": "code",
   "execution_count": 99,
   "metadata": {},
   "outputs": [
    {
     "data": {
      "image/png": "[encoded data removed]",
      "text/plain": [
       "<Figure size 432x288 with 1 Axes>"
      ]
     },
     "metadata": {
      "needs_background": "light"
     },
     "output_type": "display_data"
    }
   ],
   "source": [
    "LR.plot_regression()"
   ]
  },
  {
   "cell_type": "code",
   "execution_count": 100,
   "metadata": {},
   "outputs": [
    {
     "data": {
      "image/png": "[encoded data removed]",
      "text/plain": [
       "<Figure size 432x288 with 1 Axes>"
      ]
     },
     "metadata": {
      "needs_background": "light"
     },
     "output_type": "display_data"
    }
   ],
   "source": [
    "LR.plot_cost()"
   ]
  },
  {
   "cell_type": "code",
   "execution_count": 101,
   "metadata": {},
   "outputs": [],
   "source": [
    "test = np.array([[150000, 5000], [50000, 7000], [210000, 4000]])"
   ]
  },
  {
   "cell_type": "code",
   "execution_count": 102,
   "metadata": {},
   "outputs": [
    {
     "data": {
      "text/plain": [
       "array([[5204.17871671],\n",
       "       [7317.37161388],\n",
       "       [3936.26297841]])"
      ]
     },
     "execution_count": 102,
     "metadata": {},
     "output_type": "execute_result"
    }
   ],
   "source": [
    "LR.predict(test[:, 0].reshape(-1, 1))"
   ]
  },
  {
   "cell_type": "code",
   "execution_count": 104,
   "metadata": {},
   "outputs": [
    {
     "data": {
      "text/plain": [
       "-457.8133090038018"
      ]
     },
     "execution_count": 104,
     "metadata": {},
     "output_type": "execute_result"
    }
   ],
   "source": [
    "LR.error(test[:, 0].reshape(-1, 1), test[:, 1].reshape(-1, 1))"
   ]
  }
 ],
 "metadata": {
  "kernelspec": {
   "display_name": "Python 3",
   "language": "python",
   "name": "python3"
  },
  "language_info": {
   "codemirror_mode": {
    "name": "ipython",
    "version": 3
   },
   "file_extension": ".py",
   "mimetype": "text/x-python",
   "name": "python",
   "nbconvert_exporter": "python",
   "pygments_lexer": "ipython3",
   "version": "3.9.5"
  },
  "orig_nbformat": 4
 },
 "nbformat": 4,
 "nbformat_minor": 2
}
